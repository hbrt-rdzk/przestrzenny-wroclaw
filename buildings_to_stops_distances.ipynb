{
 "cells": [
  {
   "cell_type": "code",
   "execution_count": 1,
   "metadata": {},
   "outputs": [],
   "source": [
    "import geopandas as gpd\n",
    "from srai.loaders.osm_loaders import OSMOnlineLoader"
   ]
  },
  {
   "cell_type": "code",
   "execution_count": 2,
   "metadata": {},
   "outputs": [],
   "source": [
    "gdf = gpd.read_file(\"data/shp/REJSTAT_20231231.shp\")\n",
    "gdf = gdf.to_crs(epsg=4326)\n",
    "geometry = gdf.geometry.union_all()\n",
    "\n",
    "loader = OSMOnlineLoader()"
   ]
  },
  {
   "cell_type": "code",
   "execution_count": 3,
   "metadata": {},
   "outputs": [],
   "source": [
    "osm_non_residential_building_types = [\n",
    "    \"commercial\",\n",
    "    \"industrial\",\n",
    "    \"kiosk\",\n",
    "    \"office\",\n",
    "    \"retail\",\n",
    "    \"supermarket\",\n",
    "    \"warehouse\",\n",
    "    \"church\",\n",
    "    \"chapel\",\n",
    "    \"hospital\",\n",
    "    \"school\",\n",
    "    \"university\",\n",
    "    \"public\",\n",
    "    \"barn\",\n",
    "    \"farm_auxiliary\",\n",
    "    \"greenhouse\",\n",
    "    \"stable\",\n",
    "    \"boathouse\",\n",
    "    \"bunker\",\n",
    "]\n",
    "\n",
    "osm_residential_building_types = [\n",
    "    \"apartments\",\n",
    "    \"bungalow\",\n",
    "    \"cabin\",\n",
    "    \"detached\",\n",
    "    \"dormitory\",\n",
    "    \"house\",\n",
    "    \"residential\",\n",
    "    \"semidetached_house\",\n",
    "    \"hut\",\n",
    "    \"yes\",\n",
    "]"
   ]
  },
  {
   "cell_type": "code",
   "execution_count": null,
   "metadata": {},
   "outputs": [],
   "source": [
    "allotments = loader.load(geometry, {\"landuse\": \"allotments\"}).to_crs(epsg=4326)\n",
    "allotments = allotments.geometry.union_all()\n",
    "\n",
    "region_to_load = geometry.difference(allotments)"
   ]
  },
  {
   "cell_type": "code",
   "execution_count": null,
   "metadata": {},
   "outputs": [],
   "source": [
    "non_residential_buildings = loader.load(\n",
    "    region_to_load,\n",
    "    {\n",
    "        \"building\": osm_non_residential_building_types,\n",
    "        \"building:levels\": True,\n",
    "    },\n",
    ").to_crs(epsg=2180)"
   ]
  },
  {
   "cell_type": "code",
   "execution_count": null,
   "metadata": {},
   "outputs": [],
   "source": [
    "residential_buildings = loader.load(\n",
    "    region_to_load,\n",
    "    {\n",
    "        \"building\": osm_residential_building_types,\n",
    "        \"building:levels\": True,\n",
    "    },\n",
    ").to_crs(epsg=2180)"
   ]
  },
  {
   "cell_type": "code",
   "execution_count": 7,
   "metadata": {},
   "outputs": [],
   "source": [
    "non_residential_buildings = non_residential_buildings[\n",
    "    ~non_residential_buildings[\"building\"].isna()\n",
    "]\n",
    "residential_buildings = residential_buildings[~residential_buildings[\"building\"].isna()]\n",
    "\n",
    "residential_buildings = residential_buildings[residential_buildings.area >= 40]\n",
    "\n",
    "residential_buildings.loc[\n",
    "    residential_buildings[\"building\"] == \"yes\", \"building\"\n",
    "] = \"unspecified\""
   ]
  },
  {
   "cell_type": "code",
   "execution_count": null,
   "metadata": {},
   "outputs": [],
   "source": [
    "residential_buildings.explore()"
   ]
  },
  {
   "cell_type": "code",
   "execution_count": null,
   "metadata": {},
   "outputs": [],
   "source": [
    "import folium\n",
    "\n",
    "stops_df = gpd.read_file(\"data/mapa.geojson\")\n",
    "\n",
    "m = folium.Map(location=[51.1078565, 17.04563742], zoom_start=15)\n",
    "\n",
    "for _, row in stops_df.iterrows():\n",
    "    name = row[\"name\"]\n",
    "    lat = row[\"geometry\"].y\n",
    "    lon = row[\"geometry\"].x\n",
    "    folium.Marker(location=[lat, lon], popup=name).add_to(m)\n",
    "m"
   ]
  },
  {
   "cell_type": "markdown",
   "metadata": {},
   "source": [
    "### Odleglosc budynków od przystanków"
   ]
  },
  {
   "cell_type": "code",
   "execution_count": 10,
   "metadata": {},
   "outputs": [],
   "source": [
    "def find_buildings_distance(\n",
    "    gdf_buildings: gpd.GeoDataFrame, gdf_stops: gpd.GeoDataFrame\n",
    ") -> gpd.GeoDataFrame:\n",
    "    if gdf_buildings.crs != gdf_stops.crs:\n",
    "        gdf_stops = gdf_stops.to_crs(gdf_buildings.crs)\n",
    "    buildings = gdf_buildings.copy()\n",
    "\n",
    "    def count_min_distance(geom: gpd.GeoSeries) -> float:\n",
    "        dinstace = [geom.distance(point) for point in gdf_stops.geometry]\n",
    "        return min(dinstace)\n",
    "\n",
    "    buildings[\"distance_to_stop\"] = buildings.geometry.apply(count_min_distance)\n",
    "\n",
    "    return buildings"
   ]
  },
  {
   "cell_type": "code",
   "execution_count": 11,
   "metadata": {},
   "outputs": [],
   "source": [
    "gdf_buildings_processed = find_buildings_distance(residential_buildings, stops_df)"
   ]
  },
  {
   "cell_type": "code",
   "execution_count": 39,
   "metadata": {},
   "outputs": [],
   "source": [
    "gdf_buildings_processed = gdf_buildings_processed.drop(\"building:levels\", axis=1)\n",
    "gdf_buildings_processed = gdf_buildings_processed.to_crs(epsg=4326)\n",
    "gdf_stops_processed = stops_df[[\"id\", \"geometry\"]]"
   ]
  },
  {
   "cell_type": "code",
   "execution_count": 48,
   "metadata": {},
   "outputs": [],
   "source": [
    "import ipywidgets as widgets\n",
    "from branca.colormap import LinearColormap\n",
    "from IPython.display import clear_output, display\n",
    "\n",
    "\n",
    "def create_folium_map(gdf_buildings: gpd.GeoDataFrame, gdf_stops: gpd.GeoDataFrame) -> None:\n",
    "    buildings = gdf_buildings.copy()\n",
    "\n",
    "    base_map = folium.Map(location=[51.1078565, 17.04563742], zoom_start=15)\n",
    "\n",
    "    colormap = LinearColormap(\n",
    "        colors=[\"green\", \"yellow\", \"red\"],\n",
    "        vmin=buildings[\"distance_to_stop\"].min(),\n",
    "        vmax=buildings[\"distance_to_stop\"].max(),\n",
    "    )\n",
    "    base_map.add_child(colormap)\n",
    "\n",
    "    map_container = widgets.Output()\n",
    "\n",
    "    def update_map(max_distance):\n",
    "        with map_container:\n",
    "            clear_output(wait=True)\n",
    "            m = folium.Map(location=[51.1078565, 17.04563742], zoom_start=15)\n",
    "            m.add_child(colormap)\n",
    "\n",
    "            style_function = lambda x: {\n",
    "                \"fillColor\": colormap(x[\"properties\"][\"distance_to_stop\"]),\n",
    "                \"color\": \"black\",\n",
    "                \"weight\": 1,\n",
    "                \"fillOpacity\": 0.0\n",
    "                if x[\"properties\"][\"distance_to_stop\"] <= max_distance\n",
    "                else 1.0,\n",
    "            }\n",
    "\n",
    "            folium.GeoJson(\n",
    "                buildings.__geo_interface__, style_function=style_function, name=\"Budynki\"\n",
    "            ).add_to(m)\n",
    "\n",
    "            for idx, row in gdf_stops.iterrows():\n",
    "                folium.CircleMarker(\n",
    "                    location=[row.geometry.y, row.geometry.x],\n",
    "                    radius=8,\n",
    "                    color=\"red\",\n",
    "                    fill=True,\n",
    "                    popup=f\"Przystanek {idx}\",\n",
    "                ).add_to(m)\n",
    "\n",
    "            folium.LayerControl().add_to(m)\n",
    "\n",
    "            total_buildings = len(buildings)\n",
    "            buildings_in_range = len(\n",
    "                buildings[buildings[\"distance_to_stop\"] <= max_distance]\n",
    "            )\n",
    "\n",
    "            info = f\"\"\"\n",
    "            <div style=\"padding: 10px; background-color: white; opacity: 0.8; border-radius: 5px;\">\n",
    "            <h4>Statystyki:</h4>\n",
    "            <p>Budynki w zasięgu: {buildings_in_range} z {total_buildings}</p>\n",
    "            <p>Procent w zasięgu: {(buildings_in_range/total_buildings*100):.1f}%</p>\n",
    "            <p>Maksymalna odległość: {max_distance}m</p>\n",
    "            <p>Mapa z budynkami przekraczajacymi maksymalny zasięg:</p>\n",
    "            </div>\n",
    "            \"\"\"\n",
    "\n",
    "            legend = folium.Element(info)\n",
    "            m.get_root().html.add_child(legend)\n",
    "\n",
    "            display(m)\n",
    "\n",
    "    update_map(500)\n",
    "\n",
    "    slider = widgets.FloatSlider(\n",
    "        value=500,\n",
    "        min=0,\n",
    "        max=2000,\n",
    "        step=50,\n",
    "        description=\"Maksymalna odległość (m):\",\n",
    "        continuous_update=False,\n",
    "        style={\"description_width\": \"initial\"},\n",
    "        layout={\"width\": \"500px\"},\n",
    "    )\n",
    "    widgets.interactive_output(update_map, {\"max_distance\": slider})\n",
    "\n",
    "    display(map_container, slider)"
   ]
  },
  {
   "cell_type": "code",
   "execution_count": null,
   "metadata": {},
   "outputs": [],
   "source": [
    "create_folium_map(gdf_buildings_processed, gdf_stops_processed)"
   ]
  }
 ],
 "metadata": {
  "kernelspec": {
   "display_name": ".venv",
   "language": "python",
   "name": "python3"
  },
  "language_info": {
   "codemirror_mode": {
    "name": "ipython",
    "version": 3
   },
   "file_extension": ".py",
   "mimetype": "text/x-python",
   "name": "python",
   "nbconvert_exporter": "python",
   "pygments_lexer": "ipython3",
   "version": "3.11.3"
  }
 },
 "nbformat": 4,
 "nbformat_minor": 2
}
