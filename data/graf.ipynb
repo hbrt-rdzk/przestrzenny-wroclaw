{
 "cells": [
  {
   "cell_type": "code",
   "execution_count": 2,
   "metadata": {},
   "outputs": [
    {
     "name": "stderr",
     "output_type": "stream",
     "text": [
      "100%|██████████| 127/127 [00:14<00:00,  9.07it/s]\n"
     ]
    },
    {
     "name": "stdout",
     "output_type": "stream",
     "text": [
      "Zakończono przetwarzanie. Zapisano 14978 połączeń do pliku CSV.\n"
     ]
    }
   ],
   "source": [
    "import os\n",
    "import csv\n",
    "import xml.etree.ElementTree as ET\n",
    "from tqdm import tqdm\n",
    "\n",
    "def parse_xml_to_connections(input_folder, output_csv):\n",
    "    csv_data = []\n",
    "    header = [\"Linia\", \"Typ\", \"Wariant\", \"Przystanek startowy ID\", \"Przystanek startowy nazwa\", \n",
    "              \"Przystanek końcowy ID\", \"Przystanek końcowy nazwa\", \"Czas przejazdu\", \"Czasy przejazdu\"]\n",
    "\n",
    "    for root_dir, sub_dirs, files in tqdm(list(os.walk(input_folder))):\n",
    "        for file in files:\n",
    "            if file.endswith(\".xml\"):\n",
    "                file_path = os.path.join(root_dir, file)\n",
    "                try:\n",
    "                    tree = ET.parse(file_path)\n",
    "                    root = tree.getroot()\n",
    "\n",
    "                    for linia in root.findall('linia'):\n",
    "\n",
    "                        linia_nazwa = linia.get('nazwa')\n",
    "                        linia_typ = linia.get('typ')\n",
    "\n",
    "                        for wariant in linia.findall('wariant'):\n",
    "                            wariant_nazwa = wariant.get('nazwa')\n",
    "                            # print(f\"Przetwarzam wariant: {wariant_nazwa}\")\n",
    "                            \n",
    "                            przystanki = wariant.findall('przystanek')\n",
    "                            # print(f\"Liczba przystanków w wariancie {wariant_nazwa}: {len(przystanki)}\")\n",
    "\n",
    "                            for przystanek in przystanki[:-1]:\n",
    "                                start_przystanek, koncowy_przystanek = przystanek.findall('czasy/przystanek')[:2]\n",
    "                                start_id = start_przystanek.get('id')\n",
    "                                start_nazwa = start_przystanek.get('nazwa')\n",
    "                                koniec_id = koncowy_przystanek.get('id')\n",
    "                                koniec_nazwa = koncowy_przystanek.get('nazwa')\n",
    "                                try:\n",
    "                                    czas = int(koncowy_przystanek.get('czas', 0))\n",
    "                                except ValueError:\n",
    "                                    czas = 0\n",
    "\n",
    "                                czasy_odjazdu = []\n",
    "                                dzień = przystanek.find('tabliczka/dzien')\n",
    "                                if dzień.get('nazwa') != 'w dni robocze':\n",
    "                                    continue\n",
    "                                godziny = dzień.findall('godz')\n",
    "                                for godzina in godziny:\n",
    "                                    h = int(godzina.get('h'))\n",
    "                                    for minuta in godzina.findall('min'):\n",
    "                                        m = int(minuta.get('m'))\n",
    "                                        czas_odjazdu = h*60 + m\n",
    "                                        czasy_odjazdu.append(czas_odjazdu)\n",
    "\n",
    "                                csv_data.append([\n",
    "                                    linia_nazwa, linia_typ, wariant_nazwa, \n",
    "                                    start_id, start_nazwa, \n",
    "                                    koniec_id, koniec_nazwa, \n",
    "                                    czas, czasy_odjazdu\n",
    "                                ])\n",
    "                                \n",
    "                except Exception as e:\n",
    "                    print(f\"Błąd podczas przetwarzania pliku {file_path}: {e}\")\n",
    "\n",
    "    # Dodanie godziny dojazdu\n",
    "    for i in range(len(csv_data)-1):\n",
    "        new_times = []\n",
    "        if csv_data[i][2] == csv_data[i+1][2] and len(csv_data[i][8]) == len(csv_data[i+1][8]):\n",
    "            for start1 in csv_data[i][8]:\n",
    "                min_dist = 1440\n",
    "                best_start = None\n",
    "                for start2 in csv_data[i+1][8]:\n",
    "                    dist = start2 - start1\n",
    "                    if dist < 0:\n",
    "                        dist += 1440\n",
    "                    if dist < min_dist:\n",
    "                        min_dist = dist\n",
    "                        best_start = start2\n",
    "                new_times.append([start1, best_start])\n",
    "        else:\n",
    "            new_times = [[start, (start + csv_data[i][7])%1440] for start in csv_data[i][8]]\n",
    "        csv_data[i][8] = new_times\n",
    "    csv_data[-1][8] = [[start, (start + csv_data[-1][7])%1440] for start in csv_data[-1][8]]\n",
    "\n",
    "    with open(output_csv, mode='w', encoding='utf-8', newline='') as csv_file:\n",
    "        writer = csv.writer(csv_file)\n",
    "        writer.writerow(header)\n",
    "        writer.writerows(csv_data)\n",
    "    print(f\"Zakończono przetwarzanie. Zapisano {len(csv_data)} połączeń do pliku CSV.\")\n",
    "\n",
    "input_folder = \"XML-rozkladyjazdy\" \n",
    "output_csv = \"graf_polaczen2.csv\" \n",
    "parse_xml_to_connections(input_folder, output_csv)\n"
   ]
  },
  {
   "cell_type": "code",
   "execution_count": null,
   "metadata": {},
   "outputs": [],
   "source": []
  }
 ],
 "metadata": {
  "kernelspec": {
   "display_name": "Python 3",
   "language": "python",
   "name": "python3"
  },
  "language_info": {
   "codemirror_mode": {
    "name": "ipython",
    "version": 3
   },
   "file_extension": ".py",
   "mimetype": "text/x-python",
   "name": "python",
   "nbconvert_exporter": "python",
   "pygments_lexer": "ipython3",
   "version": "3.11.9"
  }
 },
 "nbformat": 4,
 "nbformat_minor": 2
}
